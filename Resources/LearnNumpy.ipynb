{
 "cells": [
  {
   "cell_type": "code",
   "execution_count": 1,
   "id": "158b9e5f-fa12-42c7-9ec8-b30e4bb8c6ee",
   "metadata": {},
   "outputs": [],
   "source": [
    "import numpy as np"
   ]
  },
  {
   "cell_type": "code",
   "execution_count": 2,
   "id": "360993c9-0df6-43f6-a5e2-ed9d9e99f0fb",
   "metadata": {},
   "outputs": [
    {
     "data": {
      "text/plain": [
       "'1.26.4'"
      ]
     },
     "execution_count": 2,
     "metadata": {},
     "output_type": "execute_result"
    }
   ],
   "source": [
    "np.__version__"
   ]
  },
  {
   "cell_type": "markdown",
   "id": "513444a5-920c-415c-bcfd-730a050f8424",
   "metadata": {},
   "source": [
    "### Create & Read"
   ]
  },
  {
   "cell_type": "markdown",
   "id": "e164a24a-2384-4094-b8c3-a44c501588f9",
   "metadata": {},
   "source": [
    "#### 1D Array"
   ]
  },
  {
   "cell_type": "code",
   "execution_count": 8,
   "id": "9805a7e8-f924-4f6f-86c3-0c57e683a372",
   "metadata": {},
   "outputs": [
    {
     "data": {
      "text/plain": [
       "array([1, 2, 3, 4, 5])"
      ]
     },
     "execution_count": 8,
     "metadata": {},
     "output_type": "execute_result"
    }
   ],
   "source": [
    "arr1 = np.array([1, 2, 3, 4 , 5])\n",
    "arr1"
   ]
  },
  {
   "cell_type": "code",
   "execution_count": 9,
   "id": "fbc1b7c6-5d8c-4e6a-a073-3df892627d3f",
   "metadata": {},
   "outputs": [
    {
     "data": {
      "text/plain": [
       "numpy.ndarray"
      ]
     },
     "execution_count": 9,
     "metadata": {},
     "output_type": "execute_result"
    }
   ],
   "source": [
    "type(arr1)"
   ]
  },
  {
   "cell_type": "code",
   "execution_count": 10,
   "id": "798aad59-42bc-44a9-937f-e0878fff3111",
   "metadata": {},
   "outputs": [
    {
     "data": {
      "text/plain": [
       "(5,)"
      ]
     },
     "execution_count": 10,
     "metadata": {},
     "output_type": "execute_result"
    }
   ],
   "source": [
    "arr1.shape"
   ]
  },
  {
   "cell_type": "code",
   "execution_count": 11,
   "id": "d142b423-a565-4b39-9008-d5620e3e2176",
   "metadata": {},
   "outputs": [
    {
     "data": {
      "text/plain": [
       "dtype('int32')"
      ]
     },
     "execution_count": 11,
     "metadata": {},
     "output_type": "execute_result"
    }
   ],
   "source": [
    "arr1.dtype"
   ]
  },
  {
   "cell_type": "code",
   "execution_count": 12,
   "id": "babcca1b-ac1d-4bad-8b84-4c54270d9d5b",
   "metadata": {},
   "outputs": [
    {
     "data": {
      "text/plain": [
       "1"
      ]
     },
     "execution_count": 12,
     "metadata": {},
     "output_type": "execute_result"
    }
   ],
   "source": [
    "arr1.ndim"
   ]
  },
  {
   "cell_type": "code",
   "execution_count": 13,
   "id": "12d4a01e-5556-47fa-8029-f3d9f6013694",
   "metadata": {},
   "outputs": [
    {
     "data": {
      "text/plain": [
       "5"
      ]
     },
     "execution_count": 13,
     "metadata": {},
     "output_type": "execute_result"
    }
   ],
   "source": [
    "arr1.size"
   ]
  },
  {
   "cell_type": "markdown",
   "id": "a298084f-70b5-4f48-b2fc-5a2eb657d93e",
   "metadata": {},
   "source": [
    "#### 2D Array"
   ]
  },
  {
   "cell_type": "code",
   "execution_count": 15,
   "id": "4d41e4be-4e96-4683-929d-13cc4d608d0a",
   "metadata": {},
   "outputs": [
    {
     "data": {
      "text/plain": [
       "array([[1, 4, 5],\n",
       "       [6, 7, 4]])"
      ]
     },
     "execution_count": 15,
     "metadata": {},
     "output_type": "execute_result"
    }
   ],
   "source": [
    "arr2 = np.array([[1, 4, 5], [6, 7, 4]])\n",
    "arr2"
   ]
  },
  {
   "cell_type": "code",
   "execution_count": 16,
   "id": "957b99e0-fdc0-4a94-b5a8-5a97f67205c5",
   "metadata": {},
   "outputs": [
    {
     "data": {
      "text/plain": [
       "2"
      ]
     },
     "execution_count": 16,
     "metadata": {},
     "output_type": "execute_result"
    }
   ],
   "source": [
    "arr2.ndim"
   ]
  },
  {
   "cell_type": "code",
   "execution_count": 17,
   "id": "ed80ef75-5c57-44ca-9eba-a86b464917e2",
   "metadata": {},
   "outputs": [
    {
     "data": {
      "text/plain": [
       "(2, 3)"
      ]
     },
     "execution_count": 17,
     "metadata": {},
     "output_type": "execute_result"
    }
   ],
   "source": [
    "arr2.shape # (row, col)"
   ]
  },
  {
   "cell_type": "code",
   "execution_count": 18,
   "id": "26eea102-73b0-431e-811d-f622c2036210",
   "metadata": {},
   "outputs": [
    {
     "data": {
      "text/plain": [
       "dtype('int32')"
      ]
     },
     "execution_count": 18,
     "metadata": {},
     "output_type": "execute_result"
    }
   ],
   "source": [
    "arr2.dtype"
   ]
  },
  {
   "cell_type": "code",
   "execution_count": 19,
   "id": "07e16521-efd3-42c3-907a-58e84b4033bd",
   "metadata": {},
   "outputs": [
    {
     "data": {
      "text/plain": [
       "5"
      ]
     },
     "execution_count": 19,
     "metadata": {},
     "output_type": "execute_result"
    }
   ],
   "source": [
    "arr1.size"
   ]
  },
  {
   "cell_type": "markdown",
   "id": "71831e3f-2c02-4310-85b8-b5003c0813fc",
   "metadata": {},
   "source": [
    "#### 3D Array"
   ]
  },
  {
   "cell_type": "code",
   "execution_count": 23,
   "id": "a0cf85d2-45fe-425c-a1d1-a289cb6c1335",
   "metadata": {},
   "outputs": [
    {
     "data": {
      "text/plain": [
       "array([[[1, 4, 5],\n",
       "        [6, 7, 4]],\n",
       "\n",
       "       [[3, 5, 4],\n",
       "        [5, 8, 7]],\n",
       "\n",
       "       [[1, 4, 5],\n",
       "        [6, 7, 4]]])"
      ]
     },
     "execution_count": 23,
     "metadata": {},
     "output_type": "execute_result"
    }
   ],
   "source": [
    "arr3 = np.array([[[1, 4, 5], [6, 7, 4]],[[3, 5, 4], [5, 8, 7]], [[1, 4, 5], [6, 7, 4]]])\n",
    "arr3"
   ]
  },
  {
   "cell_type": "code",
   "execution_count": 24,
   "id": "371fe095-9413-46a4-9357-a465a036ec90",
   "metadata": {},
   "outputs": [
    {
     "data": {
      "text/plain": [
       "3"
      ]
     },
     "execution_count": 24,
     "metadata": {},
     "output_type": "execute_result"
    }
   ],
   "source": [
    "arr3.ndim"
   ]
  },
  {
   "cell_type": "code",
   "execution_count": 25,
   "id": "55bfae40-c730-430a-a5cf-ec6602d45951",
   "metadata": {},
   "outputs": [
    {
     "data": {
      "text/plain": [
       "(3, 2, 3)"
      ]
     },
     "execution_count": 25,
     "metadata": {},
     "output_type": "execute_result"
    }
   ],
   "source": [
    "arr3.shape # ( nº of layers, rows, col )"
   ]
  },
  {
   "cell_type": "code",
   "execution_count": 26,
   "id": "0f858ebd-f8fe-47bf-8022-5606c37974de",
   "metadata": {},
   "outputs": [
    {
     "data": {
      "text/plain": [
       "18"
      ]
     },
     "execution_count": 26,
     "metadata": {},
     "output_type": "execute_result"
    }
   ],
   "source": [
    "arr3.size"
   ]
  },
  {
   "cell_type": "code",
   "execution_count": null,
   "id": "1b5ec716-acbc-4b82-9243-2d56df68bd26",
   "metadata": {},
   "outputs": [],
   "source": []
  },
  {
   "cell_type": "markdown",
   "id": "69e6da1b-0c73-410c-b862-70fa9adb9eed",
   "metadata": {},
   "source": [
    "### Create random array"
   ]
  },
  {
   "cell_type": "code",
   "execution_count": 27,
   "id": "cc491923-af8b-4afe-8f83-42823fdfc4c8",
   "metadata": {},
   "outputs": [
    {
     "data": {
      "text/plain": [
       "array([[[0.02329214, 0.32002707, 0.63827756],\n",
       "        [0.76595377, 0.31804329, 0.21553118]],\n",
       "\n",
       "       [[0.63153276, 0.86551323, 0.12665015],\n",
       "        [0.08418408, 0.18687476, 0.73270021]],\n",
       "\n",
       "       [[0.51738605, 0.55073479, 0.35848999],\n",
       "        [0.81636959, 0.54175681, 0.73709252]]])"
      ]
     },
     "execution_count": 27,
     "metadata": {},
     "output_type": "execute_result"
    }
   ],
   "source": [
    "randomArr = np.random.rand(3, 2, 3)\n",
    "randomArr"
   ]
  },
  {
   "cell_type": "code",
   "execution_count": 28,
   "id": "56d9ce1c-0b8c-4ef4-aaa8-c7c46db1cd6c",
   "metadata": {},
   "outputs": [
    {
     "data": {
      "text/plain": [
       "dtype('float64')"
      ]
     },
     "execution_count": 28,
     "metadata": {},
     "output_type": "execute_result"
    }
   ],
   "source": [
    "randomArr.dtype"
   ]
  },
  {
   "cell_type": "code",
   "execution_count": 32,
   "id": "fa9b75c5-185a-441d-80fb-c86d35308033",
   "metadata": {},
   "outputs": [
    {
     "data": {
      "text/plain": [
       "array([[[0., 0., 0.],\n",
       "        [0., 0., 0.]],\n",
       "\n",
       "       [[0., 0., 0.],\n",
       "        [0., 0., 0.]],\n",
       "\n",
       "       [[0., 0., 0.],\n",
       "        [0., 0., 0.]]])"
      ]
     },
     "execution_count": 32,
     "metadata": {},
     "output_type": "execute_result"
    }
   ],
   "source": [
    "zeroes = np.zeros((3, 2, 3))\n",
    "zeroes"
   ]
  },
  {
   "cell_type": "code",
   "execution_count": 33,
   "id": "e992db0a-8357-4a55-9b8e-911358840ff5",
   "metadata": {},
   "outputs": [
    {
     "data": {
      "text/plain": [
       "3"
      ]
     },
     "execution_count": 33,
     "metadata": {},
     "output_type": "execute_result"
    }
   ],
   "source": [
    "zeroes.ndim"
   ]
  },
  {
   "cell_type": "code",
   "execution_count": 34,
   "id": "0c741c87-cff7-4ffe-9dd6-47db258b6b22",
   "metadata": {},
   "outputs": [
    {
     "data": {
      "text/plain": [
       "array([[[8, 8, 8],\n",
       "        [8, 8, 8]],\n",
       "\n",
       "       [[8, 8, 8],\n",
       "        [8, 8, 8]],\n",
       "\n",
       "       [[8, 8, 8],\n",
       "        [8, 8, 8]]])"
      ]
     },
     "execution_count": 34,
     "metadata": {},
     "output_type": "execute_result"
    }
   ],
   "source": [
    "full = np.full((3, 2, 3), 8)  # Fiil with number 8\n",
    "full"
   ]
  },
  {
   "cell_type": "code",
   "execution_count": 35,
   "id": "9ded543a-901f-4c4a-b261-95ef4ad67798",
   "metadata": {},
   "outputs": [
    {
     "data": {
      "text/plain": [
       "array([[[1., 1., 1.],\n",
       "        [1., 1., 1.]],\n",
       "\n",
       "       [[1., 1., 1.],\n",
       "        [1., 1., 1.]],\n",
       "\n",
       "       [[1., 1., 1.],\n",
       "        [1., 1., 1.]]])"
      ]
     },
     "execution_count": 35,
     "metadata": {},
     "output_type": "execute_result"
    }
   ],
   "source": [
    "ones = np.ones((3, 2, 3))\n",
    "ones"
   ]
  },
  {
   "cell_type": "code",
   "execution_count": 36,
   "id": "1bd85dcd-d521-4e19-96a6-990a19662bb3",
   "metadata": {},
   "outputs": [
    {
     "data": {
      "text/plain": [
       "array([[[1, 4, 5],\n",
       "        [6, 7, 4]],\n",
       "\n",
       "       [[3, 5, 4],\n",
       "        [5, 8, 7]],\n",
       "\n",
       "       [[1, 4, 5],\n",
       "        [6, 7, 4]]])"
      ]
     },
     "execution_count": 36,
     "metadata": {},
     "output_type": "execute_result"
    }
   ],
   "source": [
    "arr3"
   ]
  },
  {
   "cell_type": "code",
   "execution_count": 37,
   "id": "dae1bd12-6465-4f2e-9b50-83b15dd76564",
   "metadata": {},
   "outputs": [
    {
     "data": {
      "text/plain": [
       "array([[1, 4, 5],\n",
       "       [6, 7, 4]])"
      ]
     },
     "execution_count": 37,
     "metadata": {},
     "output_type": "execute_result"
    }
   ],
   "source": [
    "arr3[0]"
   ]
  },
  {
   "cell_type": "code",
   "execution_count": 38,
   "id": "beb8acf7-4980-406a-914d-7d5ef3004c9c",
   "metadata": {},
   "outputs": [
    {
     "data": {
      "text/plain": [
       "5"
      ]
     },
     "execution_count": 38,
     "metadata": {},
     "output_type": "execute_result"
    }
   ],
   "source": [
    "arr3[0][0][2]"
   ]
  },
  {
   "cell_type": "code",
   "execution_count": 39,
   "id": "e273e906-4d08-4032-b0fd-ad187b9c8c5e",
   "metadata": {},
   "outputs": [
    {
     "data": {
      "text/plain": [
       "array([[[1, 4, 5],\n",
       "        [6, 7, 4]],\n",
       "\n",
       "       [[3, 5, 4],\n",
       "        [5, 8, 7]]])"
      ]
     },
     "execution_count": 39,
     "metadata": {},
     "output_type": "execute_result"
    }
   ],
   "source": [
    "arr3[0:2]"
   ]
  },
  {
   "cell_type": "code",
   "execution_count": 40,
   "id": "ff9a6c40-9dff-4c6f-a411-38c24a41c376",
   "metadata": {},
   "outputs": [
    {
     "data": {
      "text/plain": [
       "array([[1, 4, 5],\n",
       "       [6, 7, 4]])"
      ]
     },
     "execution_count": 40,
     "metadata": {},
     "output_type": "execute_result"
    }
   ],
   "source": [
    "arr3[-1] # access las item in the array"
   ]
  },
  {
   "cell_type": "code",
   "execution_count": 41,
   "id": "f6bdde01-0efa-4e3f-bda8-23c9239e66cb",
   "metadata": {},
   "outputs": [
    {
     "data": {
      "text/plain": [
       "5"
      ]
     },
     "execution_count": 41,
     "metadata": {},
     "output_type": "execute_result"
    }
   ],
   "source": [
    "arr3[1][0][1]"
   ]
  },
  {
   "cell_type": "code",
   "execution_count": 42,
   "id": "95300ac2-ed98-46fc-b3e0-5cb5c6ea36af",
   "metadata": {},
   "outputs": [
    {
     "data": {
      "text/plain": [
       "5"
      ]
     },
     "execution_count": 42,
     "metadata": {},
     "output_type": "execute_result"
    }
   ],
   "source": [
    "arr3[1, 0, 1]"
   ]
  },
  {
   "cell_type": "code",
   "execution_count": null,
   "id": "be3164fe-3dd9-4b10-8a68-a99ae5ec97c9",
   "metadata": {},
   "outputs": [],
   "source": []
  },
  {
   "cell_type": "markdown",
   "id": "fda2ab34-0cd9-46dd-a582-fa418b72c03c",
   "metadata": {},
   "source": [
    "### Update & Delete"
   ]
  },
  {
   "cell_type": "code",
   "execution_count": 43,
   "id": "82e6a19d-8c5c-4280-aa79-8f4c1ea056b3",
   "metadata": {},
   "outputs": [],
   "source": [
    "a1 = np.random.rand(2, 3, 2)\n",
    "a2 = np.random.rand(2, 3, 2)"
   ]
  },
  {
   "cell_type": "code",
   "execution_count": 44,
   "id": "747266e9-a472-4a48-8d38-2716f3e72a25",
   "metadata": {},
   "outputs": [
    {
     "data": {
      "text/plain": [
       "array([[[6.79817462e-01, 3.79959934e-02],\n",
       "        [7.01653897e-01, 7.38459683e-01],\n",
       "        [6.03636903e-01, 2.76176935e-01]],\n",
       "\n",
       "       [[4.90858956e-01, 7.80317523e-01],\n",
       "        [1.07313717e-01, 9.07519349e-01],\n",
       "        [7.38742733e-04, 3.23002716e-01]]])"
      ]
     },
     "execution_count": 44,
     "metadata": {},
     "output_type": "execute_result"
    }
   ],
   "source": [
    "a1"
   ]
  },
  {
   "cell_type": "code",
   "execution_count": 45,
   "id": "1513f8ff-5fd7-42a7-b7a7-f5ab454fed47",
   "metadata": {},
   "outputs": [
    {
     "data": {
      "text/plain": [
       "array([[[0.51247207, 0.29525075],\n",
       "        [0.16003863, 0.1557629 ],\n",
       "        [0.82866029, 0.28381823]],\n",
       "\n",
       "       [[0.69167725, 0.89754676],\n",
       "        [0.65879454, 0.49752559],\n",
       "        [0.89547802, 0.10165714]]])"
      ]
     },
     "execution_count": 45,
     "metadata": {},
     "output_type": "execute_result"
    }
   ],
   "source": [
    "a2"
   ]
  },
  {
   "cell_type": "markdown",
   "id": "b01fe49c-261f-442a-9ffd-71e802c02997",
   "metadata": {},
   "source": [
    "#### Basic Math Operations"
   ]
  },
  {
   "cell_type": "code",
   "execution_count": 46,
   "id": "93a30d7a-e8f7-4c02-9d53-112e755e4408",
   "metadata": {},
   "outputs": [
    {
     "data": {
      "text/plain": [
       "array([[[1.19228953, 0.33324674],\n",
       "        [0.86169253, 0.89422259],\n",
       "        [1.43229719, 0.55999517]],\n",
       "\n",
       "       [[1.18253621, 1.67786428],\n",
       "        [0.76610826, 1.40504494],\n",
       "        [0.89621676, 0.42465985]]])"
      ]
     },
     "execution_count": 46,
     "metadata": {},
     "output_type": "execute_result"
    }
   ],
   "source": [
    "np.add(a1, a2)"
   ]
  },
  {
   "cell_type": "code",
   "execution_count": 47,
   "id": "ade85245-7792-4aaf-9eb2-aff8d5dc23da",
   "metadata": {},
   "outputs": [
    {
     "data": {
      "text/plain": [
       "array([[[ 0.16734539, -0.25725476],\n",
       "        [ 0.54161526,  0.58269678],\n",
       "        [-0.22502339, -0.0076413 ]],\n",
       "\n",
       "       [[-0.2008183 , -0.11722923],\n",
       "        [-0.55148082,  0.40999376],\n",
       "        [-0.89473927,  0.22134558]]])"
      ]
     },
     "execution_count": 47,
     "metadata": {},
     "output_type": "execute_result"
    }
   ],
   "source": [
    "np.subtract(a1, a2)"
   ]
  },
  {
   "cell_type": "code",
   "execution_count": 48,
   "id": "c68a6914-27ff-465d-9591-a984861fca77",
   "metadata": {},
   "outputs": [
    {
     "data": {
      "text/plain": [
       "array([[[1.32654540e+00, 1.28690591e-01],\n",
       "        [4.38427819e+00, 4.74092137e+00],\n",
       "        [7.28449172e-01, 9.73076787e-01]],\n",
       "\n",
       "       [[7.09664739e-01, 8.69389275e-01],\n",
       "        [1.62894060e-01, 1.82406566e+00],\n",
       "        [8.24970260e-04, 3.17737373e+00]]])"
      ]
     },
     "execution_count": 48,
     "metadata": {},
     "output_type": "execute_result"
    }
   ],
   "source": [
    "np.divide(a1, a2)"
   ]
  },
  {
   "cell_type": "code",
   "execution_count": 49,
   "id": "87213a82-ec4f-4316-ae7b-ba8bb3966d48",
   "metadata": {},
   "outputs": [
    {
     "data": {
      "text/plain": [
       "array([[[3.48387460e-01, 1.12183455e-02],\n",
       "        [1.12291732e-01, 1.15024625e-01],\n",
       "        [5.00209932e-01, 7.83840499e-02]],\n",
       "\n",
       "       [[3.39515973e-01, 7.00371460e-01],\n",
       "        [7.06976906e-02, 4.51514101e-01],\n",
       "        [6.61527878e-04, 3.28355313e-02]]])"
      ]
     },
     "execution_count": 49,
     "metadata": {},
     "output_type": "execute_result"
    }
   ],
   "source": [
    "np.multiply(a1, a2)"
   ]
  },
  {
   "cell_type": "code",
   "execution_count": null,
   "id": "b5d24cdc-5992-48c8-bbcd-abb815b424b2",
   "metadata": {},
   "outputs": [],
   "source": []
  },
  {
   "cell_type": "markdown",
   "id": "125ad483-b367-4eb8-a5d7-ea294e646cdd",
   "metadata": {},
   "source": [
    "#### Statistical Operations"
   ]
  },
  {
   "cell_type": "code",
   "execution_count": 50,
   "id": "ce05eee8-aeac-4029-8dda-640a31f0338d",
   "metadata": {},
   "outputs": [],
   "source": [
    "sqrt = np.sqrt(25)\n",
    "abs = np.abs(-2)\n",
    "power = np.power(2, 8)\n",
    "log = np.log(25)\n",
    "mins = np.min(a1)\n",
    "maxs = np.max(a2)"
   ]
  },
  {
   "cell_type": "code",
   "execution_count": 51,
   "id": "f25bdb92-cc9d-42ee-9ff5-296b9f29d732",
   "metadata": {},
   "outputs": [
    {
     "data": {
      "text/plain": [
       "5.0"
      ]
     },
     "execution_count": 51,
     "metadata": {},
     "output_type": "execute_result"
    }
   ],
   "source": [
    "sqrt"
   ]
  },
  {
   "cell_type": "code",
   "execution_count": 52,
   "id": "10e6f87b-adac-4304-921d-3ba79239a911",
   "metadata": {},
   "outputs": [
    {
     "data": {
      "text/plain": [
       "2"
      ]
     },
     "execution_count": 52,
     "metadata": {},
     "output_type": "execute_result"
    }
   ],
   "source": [
    "abs"
   ]
  },
  {
   "cell_type": "code",
   "execution_count": 53,
   "id": "4975a060-6741-462b-af81-3a318595119d",
   "metadata": {},
   "outputs": [
    {
     "data": {
      "text/plain": [
       "256"
      ]
     },
     "execution_count": 53,
     "metadata": {},
     "output_type": "execute_result"
    }
   ],
   "source": [
    "power"
   ]
  },
  {
   "cell_type": "code",
   "execution_count": 54,
   "id": "6a5a2802-aca8-4518-b392-f2a46c5c7219",
   "metadata": {},
   "outputs": [
    {
     "data": {
      "text/plain": [
       "3.2188758248682006"
      ]
     },
     "execution_count": 54,
     "metadata": {},
     "output_type": "execute_result"
    }
   ],
   "source": [
    "log"
   ]
  },
  {
   "cell_type": "code",
   "execution_count": 55,
   "id": "9c8f715c-c006-4e37-b6c6-e75b2b637676",
   "metadata": {},
   "outputs": [
    {
     "data": {
      "text/plain": [
       "0.0007387427332200547"
      ]
     },
     "execution_count": 55,
     "metadata": {},
     "output_type": "execute_result"
    }
   ],
   "source": [
    "mins"
   ]
  },
  {
   "cell_type": "code",
   "execution_count": 56,
   "id": "6242e16c-2dd3-4710-934d-5b450fffff0c",
   "metadata": {},
   "outputs": [
    {
     "data": {
      "text/plain": [
       "0.8975467550812525"
      ]
     },
     "execution_count": 56,
     "metadata": {},
     "output_type": "execute_result"
    }
   ],
   "source": [
    "maxs"
   ]
  },
  {
   "cell_type": "code",
   "execution_count": null,
   "id": "5a4789ec-8bc8-4c58-bbff-e702a1fd1adb",
   "metadata": {},
   "outputs": [],
   "source": []
  },
  {
   "cell_type": "markdown",
   "id": "94b4f629-b9f6-4898-b3fe-60faaeaf99c7",
   "metadata": {},
   "source": [
    "#### Update"
   ]
  },
  {
   "cell_type": "code",
   "execution_count": 57,
   "id": "4a30a3a1-5940-4822-9315-0c767702670b",
   "metadata": {},
   "outputs": [
    {
     "data": {
      "text/plain": [
       "array([[[1, 4, 5],\n",
       "        [6, 7, 4]],\n",
       "\n",
       "       [[3, 5, 4],\n",
       "        [5, 8, 7]],\n",
       "\n",
       "       [[1, 4, 5],\n",
       "        [6, 7, 4]]])"
      ]
     },
     "execution_count": 57,
     "metadata": {},
     "output_type": "execute_result"
    }
   ],
   "source": [
    "arr3"
   ]
  },
  {
   "cell_type": "code",
   "execution_count": 58,
   "id": "4411d8ed-ef3e-4f4f-8f8a-3e4fde4ff0c3",
   "metadata": {},
   "outputs": [
    {
     "data": {
      "text/plain": [
       "array([[[  1,   4, 500],\n",
       "        [  6,   7,   4]],\n",
       "\n",
       "       [[  3,   5,   4],\n",
       "        [  5,   8,   7]],\n",
       "\n",
       "       [[  1,   4,   5],\n",
       "        [  6,   7,   4]]])"
      ]
     },
     "execution_count": 58,
     "metadata": {},
     "output_type": "execute_result"
    }
   ],
   "source": [
    "arr3[0, 0, 2]  = 500\n",
    "arr3"
   ]
  },
  {
   "cell_type": "code",
   "execution_count": 60,
   "id": "6faa3448-47f5-4d92-92b6-544a5d21790a",
   "metadata": {},
   "outputs": [
    {
     "data": {
      "text/plain": [
       "array([[[  1,   4, 500],\n",
       "        [  4,   6,   7]],\n",
       "\n",
       "       [[  3,   4,   5],\n",
       "        [  5,   7,   8]],\n",
       "\n",
       "       [[  1,   4,   5],\n",
       "        [  4,   6,   7]]])"
      ]
     },
     "execution_count": 60,
     "metadata": {},
     "output_type": "execute_result"
    }
   ],
   "source": [
    "arr3.sort()\n",
    "arr3"
   ]
  },
  {
   "cell_type": "code",
   "execution_count": 62,
   "id": "59c18e9d-d7ac-4548-bd7f-3894d20b362e",
   "metadata": {},
   "outputs": [
    {
     "data": {
      "text/plain": [
       "(3, 2, 3)"
      ]
     },
     "execution_count": 62,
     "metadata": {},
     "output_type": "execute_result"
    }
   ],
   "source": [
    "# Reshape\n",
    "arr3.shape"
   ]
  },
  {
   "cell_type": "code",
   "execution_count": 64,
   "id": "765b35d6-485b-4870-bac1-a48338a02e5c",
   "metadata": {},
   "outputs": [
    {
     "data": {
      "text/plain": [
       "array([[[  1,   4, 500],\n",
       "        [  4,   6,   7],\n",
       "        [  3,   4,   5]],\n",
       "\n",
       "       [[  5,   7,   8],\n",
       "        [  1,   4,   5],\n",
       "        [  4,   6,   7]]])"
      ]
     },
     "execution_count": 64,
     "metadata": {},
     "output_type": "execute_result"
    }
   ],
   "source": [
    "arr3_reshape = arr3.reshape((2, 3, 3))\n",
    "arr3_reshape"
   ]
  },
  {
   "cell_type": "code",
   "execution_count": 65,
   "id": "49e22ab0-bc53-4147-be3b-70125fe3d216",
   "metadata": {},
   "outputs": [
    {
     "data": {
      "text/plain": [
       "(2, 3, 3)"
      ]
     },
     "execution_count": 65,
     "metadata": {},
     "output_type": "execute_result"
    }
   ],
   "source": [
    "arr3_reshape.shape"
   ]
  },
  {
   "cell_type": "code",
   "execution_count": 66,
   "id": "df7fbd53-ebb5-4558-bd6a-46caa1f74865",
   "metadata": {},
   "outputs": [
    {
     "data": {
      "text/plain": [
       "array([[[  1,   4, 500],\n",
       "        [  4,   6,   7],\n",
       "        [  3,   4,   5]],\n",
       "\n",
       "       [[  5,   7,   8],\n",
       "        [  1,   4,   5],\n",
       "        [  4,   6,   7]]])"
      ]
     },
     "execution_count": 66,
     "metadata": {},
     "output_type": "execute_result"
    }
   ],
   "source": [
    "arr3_reshape = arr3.reshape((2, 3, -1)) # we can recshape ignoring the last dimension\n",
    "arr3_reshape"
   ]
  },
  {
   "cell_type": "code",
   "execution_count": null,
   "id": "86eb3c1e-eb30-4c19-a221-b83daf5a90ba",
   "metadata": {},
   "outputs": [],
   "source": []
  },
  {
   "cell_type": "markdown",
   "id": "bc3fad3a-7f0b-4422-9deb-3e9411d49ec7",
   "metadata": {},
   "source": [
    "### Appending & Inserting"
   ]
  },
  {
   "cell_type": "code",
   "execution_count": 67,
   "id": "45a1c899-c418-458c-93ce-b838cfe49000",
   "metadata": {},
   "outputs": [
    {
     "data": {
      "text/plain": [
       "array([[[0., 0., 0.],\n",
       "        [0., 0., 0.]],\n",
       "\n",
       "       [[0., 0., 0.],\n",
       "        [0., 0., 0.]],\n",
       "\n",
       "       [[0., 0., 0.],\n",
       "        [0., 0., 0.]]])"
      ]
     },
     "execution_count": 67,
     "metadata": {},
     "output_type": "execute_result"
    }
   ],
   "source": [
    "zeroes"
   ]
  },
  {
   "cell_type": "code",
   "execution_count": 68,
   "id": "1648229a-6445-424d-8973-ea884b4bb628",
   "metadata": {},
   "outputs": [
    {
     "data": {
      "text/plain": [
       "array([[[1., 1., 1.],\n",
       "        [1., 1., 1.]],\n",
       "\n",
       "       [[1., 1., 1.],\n",
       "        [1., 1., 1.]],\n",
       "\n",
       "       [[1., 1., 1.],\n",
       "        [1., 1., 1.]]])"
      ]
     },
     "execution_count": 68,
     "metadata": {},
     "output_type": "execute_result"
    }
   ],
   "source": [
    "# Create a new array\n",
    "new_array = np.ones([3, 2, 3])\n",
    "new_array"
   ]
  },
  {
   "cell_type": "code",
   "execution_count": 69,
   "id": "11f5969a-b575-410d-bf92-1734a7b181f0",
   "metadata": {},
   "outputs": [
    {
     "data": {
      "text/plain": [
       "array([[[0., 0., 0.],\n",
       "        [0., 0., 0.]],\n",
       "\n",
       "       [[0., 0., 0.],\n",
       "        [0., 0., 0.]],\n",
       "\n",
       "       [[0., 0., 0.],\n",
       "        [0., 0., 0.]],\n",
       "\n",
       "       [[1., 1., 1.],\n",
       "        [1., 1., 1.]],\n",
       "\n",
       "       [[1., 1., 1.],\n",
       "        [1., 1., 1.]],\n",
       "\n",
       "       [[1., 1., 1.],\n",
       "        [1., 1., 1.]]])"
      ]
     },
     "execution_count": 69,
     "metadata": {},
     "output_type": "execute_result"
    }
   ],
   "source": [
    "appd = np.append(zeroes, new_array, axis=0) # axis 0 = row, axis 1 = column\n",
    "appd"
   ]
  },
  {
   "cell_type": "code",
   "execution_count": 70,
   "id": "d4561ef2-3bae-4de2-b01b-71a5e546e117",
   "metadata": {},
   "outputs": [
    {
     "data": {
      "text/plain": [
       "array([[[0., 0., 0.],\n",
       "        [0., 0., 0.],\n",
       "        [1., 1., 1.],\n",
       "        [1., 1., 1.]],\n",
       "\n",
       "       [[0., 0., 0.],\n",
       "        [0., 0., 0.],\n",
       "        [1., 1., 1.],\n",
       "        [1., 1., 1.]],\n",
       "\n",
       "       [[0., 0., 0.],\n",
       "        [0., 0., 0.],\n",
       "        [1., 1., 1.],\n",
       "        [1., 1., 1.]]])"
      ]
     },
     "execution_count": 70,
     "metadata": {},
     "output_type": "execute_result"
    }
   ],
   "source": [
    "appd = np.append(zeroes, new_array, axis=1) # axis 0 = row, axis 1 = column\n",
    "appd"
   ]
  },
  {
   "cell_type": "code",
   "execution_count": null,
   "id": "52b7060d-e0c8-484f-b2d9-b5000e45178f",
   "metadata": {},
   "outputs": [],
   "source": []
  },
  {
   "cell_type": "code",
   "execution_count": null,
   "id": "74810250-2e3c-407b-ae45-237ad85068e5",
   "metadata": {},
   "outputs": [],
   "source": [
    "# Insert"
   ]
  },
  {
   "cell_type": "code",
   "execution_count": 71,
   "id": "fa75e1fb-e924-49ad-beb9-43036db0fa1c",
   "metadata": {},
   "outputs": [
    {
     "data": {
      "text/plain": [
       "array([[[0., 0., 0.],\n",
       "        [0., 0., 0.]],\n",
       "\n",
       "       [[0., 0., 0.],\n",
       "        [0., 0., 0.]],\n",
       "\n",
       "       [[0., 0., 0.],\n",
       "        [0., 0., 0.]]])"
      ]
     },
     "execution_count": 71,
     "metadata": {},
     "output_type": "execute_result"
    }
   ],
   "source": [
    "zeroes"
   ]
  },
  {
   "cell_type": "code",
   "execution_count": 72,
   "id": "070461e7-2113-4bda-8f94-bc3e81d358bc",
   "metadata": {},
   "outputs": [
    {
     "data": {
      "text/plain": [
       "array([[[1., 1., 1.],\n",
       "        [1., 1., 1.]],\n",
       "\n",
       "       [[1., 1., 1.],\n",
       "        [1., 1., 1.]],\n",
       "\n",
       "       [[1., 1., 1.],\n",
       "        [1., 1., 1.]]])"
      ]
     },
     "execution_count": 72,
     "metadata": {},
     "output_type": "execute_result"
    }
   ],
   "source": [
    "new_array"
   ]
  },
  {
   "cell_type": "code",
   "execution_count": 74,
   "id": "b8112daf-7343-4cf3-a7da-0c706a68ca1a",
   "metadata": {},
   "outputs": [
    {
     "data": {
      "text/plain": [
       "array([[[0., 0., 0.],\n",
       "        [0., 0., 0.]],\n",
       "\n",
       "       [[1., 1., 1.],\n",
       "        [1., 1., 1.]],\n",
       "\n",
       "       [[1., 1., 1.],\n",
       "        [1., 1., 1.]],\n",
       "\n",
       "       [[1., 1., 1.],\n",
       "        [1., 1., 1.]],\n",
       "\n",
       "       [[0., 0., 0.],\n",
       "        [0., 0., 0.]],\n",
       "\n",
       "       [[0., 0., 0.],\n",
       "        [0., 0., 0.]]])"
      ]
     },
     "execution_count": 74,
     "metadata": {},
     "output_type": "execute_result"
    }
   ],
   "source": [
    "inserted_array = np.insert(zeroes, 1, new_array, axis=0)\n",
    "inserted_array"
   ]
  },
  {
   "cell_type": "code",
   "execution_count": null,
   "id": "ed82a13c-e5c5-4b01-8910-80ba4559efef",
   "metadata": {},
   "outputs": [],
   "source": []
  },
  {
   "cell_type": "markdown",
   "id": "0d42d544-349c-48cd-9a64-38440684b90e",
   "metadata": {},
   "source": [
    "### Delete"
   ]
  },
  {
   "cell_type": "code",
   "execution_count": 75,
   "id": "e7999651-eabe-4895-b03f-d4fc491f9e99",
   "metadata": {},
   "outputs": [
    {
     "data": {
      "text/plain": [
       "array([[[0.66788204, 0.89042451, 0.77283849],\n",
       "        [0.15772441, 0.99144201, 0.88033899]],\n",
       "\n",
       "       [[0.0285845 , 0.11583285, 0.62394956],\n",
       "        [0.49042848, 0.58500883, 0.55452754]],\n",
       "\n",
       "       [[0.75682139, 0.28913076, 0.88417194],\n",
       "        [0.5798142 , 0.67404841, 0.27464712]]])"
      ]
     },
     "execution_count": 75,
     "metadata": {},
     "output_type": "execute_result"
    }
   ],
   "source": [
    "arr4 = np.random.rand(3, 2, 3)\n",
    "arr4"
   ]
  },
  {
   "cell_type": "code",
   "execution_count": 77,
   "id": "78424f3a-2ed4-4544-82f7-d49a2653a87b",
   "metadata": {},
   "outputs": [],
   "source": [
    "# delete the array\n",
    "arr5 = np.delete(arr4, 0, axis=1)"
   ]
  },
  {
   "cell_type": "code",
   "execution_count": 78,
   "id": "7f9c6f42-4c44-4ae1-9fb4-fd8fcfa0a354",
   "metadata": {},
   "outputs": [
    {
     "data": {
      "text/plain": [
       "array([[[0.15772441, 0.99144201, 0.88033899]],\n",
       "\n",
       "       [[0.49042848, 0.58500883, 0.55452754]],\n",
       "\n",
       "       [[0.5798142 , 0.67404841, 0.27464712]]])"
      ]
     },
     "execution_count": 78,
     "metadata": {},
     "output_type": "execute_result"
    }
   ],
   "source": [
    "arr5"
   ]
  },
  {
   "cell_type": "code",
   "execution_count": 79,
   "id": "0fe6edcf-f9ab-4304-974e-b92836eee2d6",
   "metadata": {},
   "outputs": [],
   "source": [
    "np.save(\"new_array\", arr5 ) # write the np array in a npy file named 'new_array'"
   ]
  },
  {
   "cell_type": "code",
   "execution_count": 81,
   "id": "db3f2695-9575-419b-94f9-5d7786f94a7c",
   "metadata": {},
   "outputs": [
    {
     "data": {
      "text/plain": [
       "array([[[0.15772441, 0.99144201, 0.88033899]],\n",
       "\n",
       "       [[0.49042848, 0.58500883, 0.55452754]],\n",
       "\n",
       "       [[0.5798142 , 0.67404841, 0.27464712]]])"
      ]
     },
     "execution_count": 81,
     "metadata": {},
     "output_type": "execute_result"
    }
   ],
   "source": [
    "np.load(\"new_array.npy\")"
   ]
  },
  {
   "cell_type": "code",
   "execution_count": null,
   "id": "5642069d-0b3f-4e5f-85c3-270228944335",
   "metadata": {},
   "outputs": [],
   "source": []
  }
 ],
 "metadata": {
  "kernelspec": {
   "display_name": "Python 3 (ipykernel)",
   "language": "python",
   "name": "python3"
  },
  "language_info": {
   "codemirror_mode": {
    "name": "ipython",
    "version": 3
   },
   "file_extension": ".py",
   "mimetype": "text/x-python",
   "name": "python",
   "nbconvert_exporter": "python",
   "pygments_lexer": "ipython3",
   "version": "3.12.4"
  }
 },
 "nbformat": 4,
 "nbformat_minor": 5
}
